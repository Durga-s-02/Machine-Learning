{
  "nbformat": 4,
  "nbformat_minor": 0,
  "metadata": {
    "colab": {
      "provenance": [],
      "authorship_tag": "ABX9TyMqwWbxMYNqXa90MiOFPrMU",
      "include_colab_link": true
    },
    "kernelspec": {
      "name": "python3",
      "display_name": "Python 3"
    },
    "language_info": {
      "name": "python"
    }
  },
  "cells": [
    {
      "cell_type": "markdown",
      "metadata": {
        "id": "view-in-github",
        "colab_type": "text"
      },
      "source": [
        "<a href=\"https://colab.research.google.com/github/Durga-s-02/Machine-Learning/blob/main/ASR_LanguageModeling.ipynb\" target=\"_parent\"><img src=\"https://colab.research.google.com/assets/colab-badge.svg\" alt=\"Open In Colab\"/></a>"
      ]
    },
    {
      "cell_type": "code",
      "execution_count": 2,
      "metadata": {
        "id": "NsWi156bcU-X"
      },
      "outputs": [],
      "source": [
        "sample_text = \"'I am a student feom lakireddy bali reddy college of engineering ,located in Andhrapadesh,India.Iam so glad that iam doing this project and learning something new.\""
      ]
    },
    {
      "cell_type": "code",
      "source": [
        "sample_text"
      ],
      "metadata": {
        "colab": {
          "base_uri": "https://localhost:8080/",
          "height": 53
        },
        "id": "wXnASbn1enc1",
        "outputId": "1164de25-6b72-484c-f331-ac226524e248"
      },
      "execution_count": 3,
      "outputs": [
        {
          "output_type": "execute_result",
          "data": {
            "text/plain": [
              "\"'I am a student feom lakireddy bali reddy college of engineering ,located in Andhrapadesh,India.Iam so glad that iam doing this project and learning something new.\""
            ],
            "application/vnd.google.colaboratory.intrinsic+json": {
              "type": "string"
            }
          },
          "metadata": {},
          "execution_count": 3
        }
      ]
    },
    {
      "cell_type": "code",
      "source": [
        "from nltk.tokenize import word_tokenize, sent_tokenize"
      ],
      "metadata": {
        "id": "_EWXBB9Ye0kJ"
      },
      "execution_count": 4,
      "outputs": []
    },
    {
      "cell_type": "code",
      "source": [
        "import nltk\n",
        "nltk.download('punkt')"
      ],
      "metadata": {
        "colab": {
          "base_uri": "https://localhost:8080/"
        },
        "id": "LkAcYQQqfdAw",
        "outputId": "0ae12979-6958-4319-b13d-cdb407c01468"
      },
      "execution_count": 8,
      "outputs": [
        {
          "output_type": "stream",
          "name": "stderr",
          "text": [
            "[nltk_data] Downloading package punkt to /root/nltk_data...\n",
            "[nltk_data]   Unzipping tokenizers/punkt.zip.\n"
          ]
        },
        {
          "output_type": "execute_result",
          "data": {
            "text/plain": [
              "True"
            ]
          },
          "metadata": {},
          "execution_count": 8
        }
      ]
    },
    {
      "cell_type": "code",
      "source": [
        "sample_sent_tokens = sent_tokenize(sample_text)\n",
        "print(sample_sent_tokens)"
      ],
      "metadata": {
        "colab": {
          "base_uri": "https://localhost:8080/"
        },
        "id": "nCyF16xme4dI",
        "outputId": "8ed6c8fd-b867-46d3-8d47-ad051f13de41"
      },
      "execution_count": 39,
      "outputs": [
        {
          "output_type": "stream",
          "name": "stdout",
          "text": [
            "[\"'I am a student feom lakireddy bali reddy college of engineering ,located in Andhrapadesh,India.Iam so glad that iam doing this project and learning something new.\"]\n"
          ]
        }
      ]
    },
    {
      "cell_type": "code",
      "source": [
        "sample_word_tokens = word_tokenize(sample_text)\n",
        "print(sample_word_tokens)"
      ],
      "metadata": {
        "colab": {
          "base_uri": "https://localhost:8080/"
        },
        "id": "zKYHRnlXe9wS",
        "outputId": "f42008d5-1238-49de-f1c4-1e7c744b9a8d"
      },
      "execution_count": 40,
      "outputs": [
        {
          "output_type": "stream",
          "name": "stdout",
          "text": [
            "[\"'\", 'I', 'am', 'a', 'student', 'feom', 'lakireddy', 'bali', 'reddy', 'college', 'of', 'engineering', ',', 'located', 'in', 'Andhrapadesh', ',', 'India.Iam', 'so', 'glad', 'that', 'iam', 'doing', 'this', 'project', 'and', 'learning', 'something', 'new', '.']\n"
          ]
        }
      ]
    },
    {
      "cell_type": "code",
      "source": [
        "from nltk.corpus import stopwords"
      ],
      "metadata": {
        "id": "GHLCXE2Hf3mz"
      },
      "execution_count": 14,
      "outputs": []
    },
    {
      "cell_type": "code",
      "source": [
        "import nltk\n",
        "nltk.download('stopwords')"
      ],
      "metadata": {
        "colab": {
          "base_uri": "https://localhost:8080/"
        },
        "id": "LSEmQ2FIgHj3",
        "outputId": "3895e54c-7ce2-4d55-8890-382a65a6effe"
      },
      "execution_count": 16,
      "outputs": [
        {
          "output_type": "stream",
          "name": "stderr",
          "text": [
            "[nltk_data] Downloading package stopwords to /root/nltk_data...\n",
            "[nltk_data]   Unzipping corpora/stopwords.zip.\n"
          ]
        },
        {
          "output_type": "execute_result",
          "data": {
            "text/plain": [
              "True"
            ]
          },
          "metadata": {},
          "execution_count": 16
        }
      ]
    },
    {
      "cell_type": "code",
      "source": [
        "print (stopwords.words('english'))"
      ],
      "metadata": {
        "colab": {
          "base_uri": "https://localhost:8080/"
        },
        "id": "D2nfBb3Gf-M0",
        "outputId": "e5444d48-e9f2-4b7a-c4ff-5a3422b8a6b1"
      },
      "execution_count": 17,
      "outputs": [
        {
          "output_type": "stream",
          "name": "stdout",
          "text": [
            "['i', 'me', 'my', 'myself', 'we', 'our', 'ours', 'ourselves', 'you', \"you're\", \"you've\", \"you'll\", \"you'd\", 'your', 'yours', 'yourself', 'yourselves', 'he', 'him', 'his', 'himself', 'she', \"she's\", 'her', 'hers', 'herself', 'it', \"it's\", 'its', 'itself', 'they', 'them', 'their', 'theirs', 'themselves', 'what', 'which', 'who', 'whom', 'this', 'that', \"that'll\", 'these', 'those', 'am', 'is', 'are', 'was', 'were', 'be', 'been', 'being', 'have', 'has', 'had', 'having', 'do', 'does', 'did', 'doing', 'a', 'an', 'the', 'and', 'but', 'if', 'or', 'because', 'as', 'until', 'while', 'of', 'at', 'by', 'for', 'with', 'about', 'against', 'between', 'into', 'through', 'during', 'before', 'after', 'above', 'below', 'to', 'from', 'up', 'down', 'in', 'out', 'on', 'off', 'over', 'under', 'again', 'further', 'then', 'once', 'here', 'there', 'when', 'where', 'why', 'how', 'all', 'any', 'both', 'each', 'few', 'more', 'most', 'other', 'some', 'such', 'no', 'nor', 'not', 'only', 'own', 'same', 'so', 'than', 'too', 'very', 's', 't', 'can', 'will', 'just', 'don', \"don't\", 'should', \"should've\", 'now', 'd', 'll', 'm', 'o', 're', 've', 'y', 'ain', 'aren', \"aren't\", 'couldn', \"couldn't\", 'didn', \"didn't\", 'doesn', \"doesn't\", 'hadn', \"hadn't\", 'hasn', \"hasn't\", 'haven', \"haven't\", 'isn', \"isn't\", 'ma', 'mightn', \"mightn't\", 'mustn', \"mustn't\", 'needn', \"needn't\", 'shan', \"shan't\", 'shouldn', \"shouldn't\", 'wasn', \"wasn't\", 'weren', \"weren't\", 'won', \"won't\", 'wouldn', \"wouldn't\"]\n"
          ]
        }
      ]
    },
    {
      "cell_type": "code",
      "source": [
        "print (stopwords.fileids())"
      ],
      "metadata": {
        "colab": {
          "base_uri": "https://localhost:8080/"
        },
        "id": "eLD_DE3qgRvM",
        "outputId": "44b96e92-5267-448d-b619-ed52f586b6ad"
      },
      "execution_count": 18,
      "outputs": [
        {
          "output_type": "stream",
          "name": "stdout",
          "text": [
            "['arabic', 'azerbaijani', 'basque', 'bengali', 'catalan', 'chinese', 'danish', 'dutch', 'english', 'finnish', 'french', 'german', 'greek', 'hebrew', 'hinglish', 'hungarian', 'indonesian', 'italian', 'kazakh', 'nepali', 'norwegian', 'portuguese', 'romanian', 'russian', 'slovene', 'spanish', 'swedish', 'tajik', 'turkish']\n"
          ]
        }
      ]
    },
    {
      "cell_type": "code",
      "source": [
        "print (stopwords.words('swedish'))"
      ],
      "metadata": {
        "colab": {
          "base_uri": "https://localhost:8080/"
        },
        "id": "reTqyTZvgWAV",
        "outputId": "81cec6fa-ac11-4e92-bb17-2f7dd166d56f"
      },
      "execution_count": 19,
      "outputs": [
        {
          "output_type": "stream",
          "name": "stdout",
          "text": [
            "['och', 'det', 'att', 'i', 'en', 'jag', 'hon', 'som', 'han', 'på', 'den', 'med', 'var', 'sig', 'för', 'så', 'till', 'är', 'men', 'ett', 'om', 'hade', 'de', 'av', 'icke', 'mig', 'du', 'henne', 'då', 'sin', 'nu', 'har', 'inte', 'hans', 'honom', 'skulle', 'hennes', 'där', 'min', 'man', 'ej', 'vid', 'kunde', 'något', 'från', 'ut', 'när', 'efter', 'upp', 'vi', 'dem', 'vara', 'vad', 'över', 'än', 'dig', 'kan', 'sina', 'här', 'ha', 'mot', 'alla', 'under', 'någon', 'eller', 'allt', 'mycket', 'sedan', 'ju', 'denna', 'själv', 'detta', 'åt', 'utan', 'varit', 'hur', 'ingen', 'mitt', 'ni', 'bli', 'blev', 'oss', 'din', 'dessa', 'några', 'deras', 'blir', 'mina', 'samma', 'vilken', 'er', 'sådan', 'vår', 'blivit', 'dess', 'inom', 'mellan', 'sådant', 'varför', 'varje', 'vilka', 'ditt', 'vem', 'vilket', 'sitta', 'sådana', 'vart', 'dina', 'vars', 'vårt', 'våra', 'ert', 'era', 'vilkas']\n"
          ]
        }
      ]
    },
    {
      "cell_type": "code",
      "source": [
        "stopWords = set(stopwords.words('english'))\n",
        "print(stopWords)"
      ],
      "metadata": {
        "colab": {
          "base_uri": "https://localhost:8080/"
        },
        "id": "IMmAOAJ3gesQ",
        "outputId": "697ab463-af69-45bb-f994-2adb22580498"
      },
      "execution_count": 41,
      "outputs": [
        {
          "output_type": "stream",
          "name": "stdout",
          "text": [
            "{'nor', 'the', 'ma', 'most', 'other', 'than', 'its', 'that', 'into', 'so', 'with', 'further', 'how', \"wasn't\", 'be', 's', 'hadn', 'is', 'himself', 'out', 'been', 'against', \"needn't\", 'were', 'being', 'i', 'or', 'during', 'yourselves', 'isn', 're', 'and', 'can', 'who', 'each', 'mightn', 'does', \"you're\", 'here', 'ain', \"hasn't\", \"you've\", 'your', \"isn't\", \"she's\", 'had', 'off', 'mustn', 'o', 'needn', 'am', \"you'll\", \"haven't\", 'under', 'has', 'them', \"couldn't\", \"wouldn't\", 'theirs', 'because', 'this', 'below', \"don't\", 'will', 'whom', 'themselves', 'at', \"mustn't\", 'but', 'they', \"mightn't\", 'too', 'again', 'did', \"aren't\", 'you', 'not', 'before', 'down', 'between', 'up', 'are', 'when', 'more', 'didn', 'no', 'shouldn', 'just', 'after', 'm', 'those', 'some', 'both', 'if', 'my', 'have', 'having', 'haven', 'weren', 'an', 'very', 'about', 'myself', 'any', 'only', 'doesn', 'herself', 'over', 'hasn', \"won't\", 'him', \"hadn't\", 'then', 'me', 'yourself', 'on', 'through', \"should've\", 'few', 'such', 'doing', 'as', 'wouldn', 'a', 'should', \"weren't\", 'itself', 'same', 'there', \"doesn't\", 'wasn', 'while', 'from', 'yours', 'these', 'hers', 'don', 'shan', 'their', 'once', 'what', 'our', 'ours', \"shan't\", 'which', 'now', 'd', 'was', 'by', 'aren', 'where', 'it', 'in', 'to', 'we', 'her', 'own', \"didn't\", 'for', 'do', 'why', \"shouldn't\", 'y', 'he', 'until', 't', 'of', 'couldn', 'his', 'll', 'ourselves', \"you'd\", 'won', 'she', 've', 'all', 'above', \"it's\", \"that'll\"}\n"
          ]
        }
      ]
    },
    {
      "cell_type": "code",
      "source": [
        "print(len(stopWords))"
      ],
      "metadata": {
        "colab": {
          "base_uri": "https://localhost:8080/"
        },
        "id": "vWCLj4cmgjc3",
        "outputId": "14d34654-2f3a-4a6a-bd2f-63b5153a7b08"
      },
      "execution_count": 22,
      "outputs": [
        {
          "output_type": "stream",
          "name": "stdout",
          "text": [
            "179\n"
          ]
        }
      ]
    },
    {
      "cell_type": "code",
      "source": [
        "for w in stopWords:\n",
        "    if w not in stopWords:\n",
        "        wordsFiltered.append(w)"
      ],
      "metadata": {
        "id": "taMZuhO7go3T"
      },
      "execution_count": 26,
      "outputs": []
    },
    {
      "cell_type": "code",
      "source": [
        "test=sample_word_tokens"
      ],
      "metadata": {
        "id": "MUwfe366hM3d"
      },
      "execution_count": 27,
      "outputs": []
    },
    {
      "cell_type": "code",
      "source": [
        "def content_fraction(text):\n",
        "    stopwords = nltk.corpus.stopwords.words('english')\n",
        "    content = [w for w in text if w.lower() not in stopwords]\n",
        "    return len(content) / len(text)"
      ],
      "metadata": {
        "id": "apz2Q5lfhQRE"
      },
      "execution_count": 28,
      "outputs": []
    },
    {
      "cell_type": "code",
      "source": [
        "nltk.download('reuters')"
      ],
      "metadata": {
        "colab": {
          "base_uri": "https://localhost:8080/"
        },
        "id": "xo4cCctChcX8",
        "outputId": "efaf17d9-117b-45dc-d510-cca692c111f4"
      },
      "execution_count": 30,
      "outputs": [
        {
          "output_type": "stream",
          "name": "stderr",
          "text": [
            "[nltk_data] Downloading package reuters to /root/nltk_data...\n"
          ]
        },
        {
          "output_type": "execute_result",
          "data": {
            "text/plain": [
              "True"
            ]
          },
          "metadata": {},
          "execution_count": 30
        }
      ]
    },
    {
      "cell_type": "code",
      "source": [
        "content_fraction(nltk.corpus.reuters.words())"
      ],
      "metadata": {
        "colab": {
          "base_uri": "https://localhost:8080/"
        },
        "id": "-JdA0QA7hYqf",
        "outputId": "7552b417-9573-4334-988b-3a39b156a6c4"
      },
      "execution_count": 31,
      "outputs": [
        {
          "output_type": "execute_result",
          "data": {
            "text/plain": [
              "0.735240435097661"
            ]
          },
          "metadata": {},
          "execution_count": 31
        }
      ]
    },
    {
      "cell_type": "code",
      "source": [
        "text = \"A quick brown fox jumps over the lazy dog.\"\n",
        "text = text.lower()"
      ],
      "metadata": {
        "id": "N2QpjMxfhonS"
      },
      "execution_count": 42,
      "outputs": []
    },
    {
      "cell_type": "code",
      "source": [
        "words = word_tokenize(text)\n",
        "print (words)"
      ],
      "metadata": {
        "colab": {
          "base_uri": "https://localhost:8080/"
        },
        "id": "s94CdTDqiGy8",
        "outputId": "ddc7553e-4cae-4246-cfb5-dc01ae78e0ef"
      },
      "execution_count": 34,
      "outputs": [
        {
          "output_type": "stream",
          "name": "stdout",
          "text": [
            "['a', 'quick', 'brown', 'fox', 'jumps', 'over', 'the', 'lazy', 'dog', '.']\n"
          ]
        }
      ]
    },
    {
      "cell_type": "code",
      "source": [
        "stop_words = stopwords.words('english')"
      ],
      "metadata": {
        "id": "WGISvwFbiNyP"
      },
      "execution_count": 35,
      "outputs": []
    },
    {
      "cell_type": "code",
      "source": [
        "words_filtered = words[:] \n",
        "for word in words:\n",
        "    if word in stop_words:        \n",
        "        words_filtered.remove(word)\n",
        "print (words_filtered)"
      ],
      "metadata": {
        "colab": {
          "base_uri": "https://localhost:8080/"
        },
        "id": "ltVyiHdEiRbV",
        "outputId": "60d8c90f-f6be-422f-ec75-9aaa858c688f"
      },
      "execution_count": 36,
      "outputs": [
        {
          "output_type": "stream",
          "name": "stdout",
          "text": [
            "['quick', 'brown', 'fox', 'jumps', 'lazy', 'dog', '.']\n"
          ]
        }
      ]
    },
    {
      "cell_type": "code",
      "source": [
        "stop_words = set(stopwords.words('english')) - set(['over', 'under'])\n",
        "print(stop_words)"
      ],
      "metadata": {
        "colab": {
          "base_uri": "https://localhost:8080/"
        },
        "id": "Nbl1hPOxicHF",
        "outputId": "c7661a33-177b-44ff-fb7d-75b8160ef107"
      },
      "execution_count": 37,
      "outputs": [
        {
          "output_type": "stream",
          "name": "stdout",
          "text": [
            "{'nor', 'the', 'ma', 'most', 'other', 'than', 'its', 'that', 'into', 'so', 'with', 'further', 'how', \"wasn't\", 'be', 's', 'hadn', 'is', 'himself', 'out', 'been', 'against', \"needn't\", 'were', 'being', 'i', 'or', 'during', 'yourselves', 'isn', 're', 'and', 'can', 'who', 'each', 'mightn', 'does', \"you're\", 'here', 'ain', \"hasn't\", \"you've\", 'your', \"isn't\", \"she's\", 'had', 'off', 'mustn', 'o', 'needn', 'am', \"you'll\", \"haven't\", 'has', 'them', \"couldn't\", \"wouldn't\", 'theirs', 'because', 'this', 'below', \"don't\", 'will', 'whom', 'themselves', 'at', \"mustn't\", 'but', 'they', \"mightn't\", 'too', 'again', 'did', \"aren't\", 'you', 'not', 'before', 'down', 'between', 'up', 'are', 'when', 'more', 'didn', 'no', 'shouldn', 'just', 'after', 'm', 'those', 'some', 'both', 'if', 'my', 'have', 'having', 'haven', 'weren', 'an', 'very', 'about', 'myself', 'any', 'only', 'doesn', 'herself', 'hasn', \"won't\", 'him', \"hadn't\", 'then', 'me', 'yourself', 'on', 'through', \"should've\", 'few', 'such', 'doing', 'as', 'wouldn', 'a', 'should', \"weren't\", 'itself', 'same', 'there', \"doesn't\", 'wasn', 'while', 'from', 'yours', 'these', 'hers', 'don', 'shan', 'their', 'once', 'what', 'our', 'ours', \"shan't\", 'which', 'now', 'd', 'was', 'by', 'aren', 'where', 'it', 'in', 'to', 'we', 'her', 'own', \"didn't\", 'for', 'do', 'why', \"shouldn't\", 'y', 'he', 'until', 't', 'of', 'couldn', 'his', 'll', 'ourselves', \"you'd\", 'won', 'she', 've', 'all', 'above', \"it's\", \"that'll\"}\n"
          ]
        }
      ]
    },
    {
      "cell_type": "code",
      "source": [
        "#Stemming\n",
        "words = [\"game\",\"gaming\",\"gamed\",\"games\"]\n",
        "from nltk.stem import PorterStemmer\n",
        "ps = PorterStemmer()\n",
        "for word in words:\n",
        "    print(ps.stem(word))"
      ],
      "metadata": {
        "colab": {
          "base_uri": "https://localhost:8080/"
        },
        "id": "xOY6I_OrinAa",
        "outputId": "f0d3c261-3a65-4034-d519-685845c8ffbf"
      },
      "execution_count": 38,
      "outputs": [
        {
          "output_type": "stream",
          "name": "stdout",
          "text": [
            "game\n",
            "game\n",
            "game\n",
            "game\n"
          ]
        }
      ]
    },
    {
      "cell_type": "code",
      "source": [
        "from nltk.stem import PorterStemmer\n",
        "stemmer = PorterStemmer()\n",
        "text = \"A quick brown fox jumps over the lazy dog.\"\n",
        "text_stem = \" \".join([stemmer.stem(word) for word in text.split()])\n",
        "print (text_stem)"
      ],
      "metadata": {
        "colab": {
          "base_uri": "https://localhost:8080/"
        },
        "id": "4PvinlQ4jwT7",
        "outputId": "97ad52db-642a-493a-b53d-6286cc92b671"
      },
      "execution_count": 43,
      "outputs": [
        {
          "output_type": "stream",
          "name": "stdout",
          "text": [
            "a quick brown fox jump over the lazi dog.\n"
          ]
        }
      ]
    },
    {
      "cell_type": "code",
      "source": [
        "from nltk.stem import SnowballStemmer\n",
        " \n",
        "stemmer_spanish = SnowballStemmer('spanish')\n",
        " \n",
        "print (stemmer_spanish.stem('trabajando')) \n",
        "print (stemmer_spanish.stem('trabajos'))"
      ],
      "metadata": {
        "colab": {
          "base_uri": "https://localhost:8080/"
        },
        "id": "gpBASlI6j09w",
        "outputId": "216fe0f4-2150-4726-9bd5-b703a808b0ab"
      },
      "execution_count": 44,
      "outputs": [
        {
          "output_type": "stream",
          "name": "stdout",
          "text": [
            "trabaj\n",
            "trabaj\n"
          ]
        }
      ]
    },
    {
      "cell_type": "code",
      "source": [
        "#Lemmatization\n",
        "from nltk.stem import WordNetLemmatizer\n",
        "lemmatizer = WordNetLemmatizer()\n",
        "nltk.download('wordnet')\n",
        "print (lemmatizer.lemmatize('is')) \n",
        "print (lemmatizer.lemmatize('are')) \n",
        " \n",
        "print (lemmatizer.lemmatize('is', pos='v')) \n",
        "print (lemmatizer.lemmatize('are', pos='v')) \n",
        " \n",
        "print (lemmatizer.lemmatize('working', pos='n')) \n",
        "print (lemmatizer.lemmatize('working', pos='v'))\n"
      ],
      "metadata": {
        "colab": {
          "base_uri": "https://localhost:8080/"
        },
        "id": "ibG8VN53jFE-",
        "outputId": "feb1fcc9-888a-4926-805d-83e62fc0d8f8"
      },
      "execution_count": 46,
      "outputs": [
        {
          "output_type": "stream",
          "name": "stderr",
          "text": [
            "[nltk_data] Downloading package wordnet to /root/nltk_data...\n"
          ]
        },
        {
          "output_type": "stream",
          "name": "stdout",
          "text": [
            "is\n",
            "are\n",
            "be\n",
            "be\n",
            "working\n",
            "work\n"
          ]
        }
      ]
    },
    {
      "cell_type": "code",
      "source": [
        "from nltk.tokenize import word_tokenize\n",
        "from nltk.stem import WordNetLemmatizer\n",
        "text = \"A quick brown fox jumps over the lazy dog.\"\n",
        "text = text.lower()\n",
        "words = word_tokenize(text)\n",
        "print (words)"
      ],
      "metadata": {
        "colab": {
          "base_uri": "https://localhost:8080/"
        },
        "id": "QqhmXdG8kSNp",
        "outputId": "ac81e206-2718-46df-c23e-d5f1639ada2f"
      },
      "execution_count": 47,
      "outputs": [
        {
          "output_type": "stream",
          "name": "stdout",
          "text": [
            "['a', 'quick', 'brown', 'fox', 'jumps', 'over', 'the', 'lazy', 'dog', '.']\n"
          ]
        }
      ]
    },
    {
      "cell_type": "code",
      "source": [
        "lemmatizer = WordNetLemmatizer()\n",
        "words_lemma = [lemmatizer.lemmatize(word) for word in words]\n",
        "print (words_lemma)"
      ],
      "metadata": {
        "colab": {
          "base_uri": "https://localhost:8080/"
        },
        "id": "Fb5ZTgoKkcwe",
        "outputId": "b430e11c-b24b-4d64-a671-96363ca02768"
      },
      "execution_count": 48,
      "outputs": [
        {
          "output_type": "stream",
          "name": "stdout",
          "text": [
            "['a', 'quick', 'brown', 'fox', 'jump', 'over', 'the', 'lazy', 'dog', '.']\n"
          ]
        }
      ]
    },
    {
      "cell_type": "code",
      "source": [
        "#PartOfSpeech tagging\n",
        "import nltk\n",
        "from nltk.tokenize import PunktSentenceTokenizer\n",
        "document ='''Whether you're new to programming or an experienced developer, it's easy to learn and use Python'''\n",
        "print(document)"
      ],
      "metadata": {
        "colab": {
          "base_uri": "https://localhost:8080/"
        },
        "id": "0s3iyblEk19T",
        "outputId": "72616959-4c79-45ef-b577-d02ad991fe4d"
      },
      "execution_count": 52,
      "outputs": [
        {
          "output_type": "stream",
          "name": "stdout",
          "text": [
            "Whether you're new to programming or an experienced developer, it's easy to learn and use Python\n"
          ]
        }
      ]
    },
    {
      "cell_type": "code",
      "source": [
        "sentences = nltk.sent_tokenize(document)   \n",
        "print(sentences)"
      ],
      "metadata": {
        "colab": {
          "base_uri": "https://localhost:8080/"
        },
        "id": "GzwGCmS3lhrX",
        "outputId": "8add3946-b6be-4109-98e9-a013fed1c864"
      },
      "execution_count": 53,
      "outputs": [
        {
          "output_type": "stream",
          "name": "stdout",
          "text": [
            "[\"Whether you're new to programming or an experienced developer, it's easy to learn and use Python\"]\n"
          ]
        }
      ]
    },
    {
      "cell_type": "code",
      "source": [
        "nltk.download('averaged_perceptron_tagger')\n",
        "for sent in sentences:\n",
        "    print(nltk.pos_tag(nltk.word_tokenize(sent)))"
      ],
      "metadata": {
        "colab": {
          "base_uri": "https://localhost:8080/"
        },
        "id": "x1GkfaptlwGB",
        "outputId": "53d2b7e0-c2c1-4b05-da4a-1665b8b4e03f"
      },
      "execution_count": 55,
      "outputs": [
        {
          "output_type": "stream",
          "name": "stderr",
          "text": [
            "[nltk_data] Downloading package averaged_perceptron_tagger to\n",
            "[nltk_data]     /root/nltk_data...\n",
            "[nltk_data]   Unzipping taggers/averaged_perceptron_tagger.zip.\n"
          ]
        },
        {
          "output_type": "stream",
          "name": "stdout",
          "text": [
            "[('Whether', 'IN'), ('you', 'PRP'), (\"'re\", 'VBP'), ('new', 'JJ'), ('to', 'TO'), ('programming', 'VBG'), ('or', 'CC'), ('an', 'DT'), ('experienced', 'JJ'), ('developer', 'NN'), (',', ','), ('it', 'PRP'), (\"'s\", 'VBZ'), ('easy', 'JJ'), ('to', 'TO'), ('learn', 'VB'), ('and', 'CC'), ('use', 'VB'), ('Python', 'NNP')]\n"
          ]
        }
      ]
    },
    {
      "cell_type": "code",
      "source": [
        "import nltk\n",
        "from nltk.corpus import state_union\n",
        "from nltk.tokenize import PunktSentenceTokenizer"
      ],
      "metadata": {
        "id": "tfF2Y62Il4DM"
      },
      "execution_count": 56,
      "outputs": []
    },
    {
      "cell_type": "code",
      "source": [
        "document = '''Today the Netherlands celebrates King's Day. To honor this tradition, the Dutch embassy in San Francisco invited me to'''\n",
        "print(document)\n",
        "sentences = nltk.sent_tokenize(document) "
      ],
      "metadata": {
        "colab": {
          "base_uri": "https://localhost:8080/"
        },
        "id": "HysFjNQEmHX6",
        "outputId": "881f63e9-55fb-4ea2-f1e6-481da844e9b1"
      },
      "execution_count": 58,
      "outputs": [
        {
          "output_type": "stream",
          "name": "stdout",
          "text": [
            "Today the Netherlands celebrates King's Day. To honor this tradition, the Dutch embassy in San Francisco invited me to\n"
          ]
        }
      ]
    },
    {
      "cell_type": "code",
      "source": [
        "data = []\n",
        "for sent in sentences:\n",
        "    data = data + nltk.pos_tag(nltk.word_tokenize(sent))\n",
        "for word in data: \n",
        "    if 'NNP' in word[1]: \n",
        "        print(word)"
      ],
      "metadata": {
        "colab": {
          "base_uri": "https://localhost:8080/"
        },
        "id": "Saa7tVk2mUv6",
        "outputId": "baceb50b-d26a-4f61-c0bd-07a4433dac33"
      },
      "execution_count": 59,
      "outputs": [
        {
          "output_type": "stream",
          "name": "stdout",
          "text": [
            "('Netherlands', 'NNP')\n",
            "('King', 'NNP')\n",
            "('Day', 'NNP')\n",
            "('San', 'NNP')\n",
            "('Francisco', 'NNP')\n"
          ]
        }
      ]
    },
    {
      "cell_type": "code",
      "source": [
        "#TTF-IDF\n",
        "import numpy as np\n",
        "from sklearn.feature_extraction.text import TfidfVectorizer\n",
        "import pandas as pd\n",
        "text_data = np.array(['I love Brazil. Brazil!',\n",
        "                      'Sweden is best',\n",
        "                      'Germany beats both'])\n",
        "(text_data)\n"
      ],
      "metadata": {
        "colab": {
          "base_uri": "https://localhost:8080/"
        },
        "id": "Fje6BX2Ymdop",
        "outputId": "920492a9-dbde-48fd-db1b-99372138ef7a"
      },
      "execution_count": 60,
      "outputs": [
        {
          "output_type": "execute_result",
          "data": {
            "text/plain": [
              "array(['I love Brazil. Brazil!', 'Sweden is best', 'Germany beats both'],\n",
              "      dtype='<U22')"
            ]
          },
          "metadata": {},
          "execution_count": 60
        }
      ]
    },
    {
      "cell_type": "code",
      "source": [
        "tfidf = TfidfVectorizer()\n",
        "feature_matrix = tfidf.fit_transform(text_data)\n",
        "feature_matrix.toarray()"
      ],
      "metadata": {
        "colab": {
          "base_uri": "https://localhost:8080/"
        },
        "id": "XXbhWJganoGu",
        "outputId": "7ff8b7eb-e675-4078-927c-afc768d47953"
      },
      "execution_count": 68,
      "outputs": [
        {
          "output_type": "execute_result",
          "data": {
            "text/plain": [
              "array([[0.        , 0.        , 0.        , 0.89442719, 0.        ,\n",
              "        0.        , 0.4472136 , 0.        ],\n",
              "       [0.        , 0.57735027, 0.        , 0.        , 0.        ,\n",
              "        0.57735027, 0.        , 0.57735027],\n",
              "       [0.57735027, 0.        , 0.57735027, 0.        , 0.57735027,\n",
              "        0.        , 0.        , 0.        ]])"
            ]
          },
          "metadata": {},
          "execution_count": 68
        }
      ]
    },
    {
      "cell_type": "code",
      "source": [
        " ! pip install gTTS"
      ],
      "metadata": {
        "colab": {
          "base_uri": "https://localhost:8080/"
        },
        "id": "kq9HYmnJo-QB",
        "outputId": "0b0453fd-09ce-42cd-ac87-5cab0d02914b"
      },
      "execution_count": 70,
      "outputs": [
        {
          "output_type": "stream",
          "name": "stdout",
          "text": [
            "Looking in indexes: https://pypi.org/simple, https://us-python.pkg.dev/colab-wheels/public/simple/\n",
            "Collecting gTTS\n",
            "  Downloading gTTS-2.3.2-py3-none-any.whl (28 kB)\n",
            "Requirement already satisfied: click<8.2,>=7.1 in /usr/local/lib/python3.10/dist-packages (from gTTS) (8.1.3)\n",
            "Requirement already satisfied: requests<3,>=2.27 in /usr/local/lib/python3.10/dist-packages (from gTTS) (2.27.1)\n",
            "Requirement already satisfied: urllib3<1.27,>=1.21.1 in /usr/local/lib/python3.10/dist-packages (from requests<3,>=2.27->gTTS) (1.26.15)\n",
            "Requirement already satisfied: charset-normalizer~=2.0.0 in /usr/local/lib/python3.10/dist-packages (from requests<3,>=2.27->gTTS) (2.0.12)\n",
            "Requirement already satisfied: idna<4,>=2.5 in /usr/local/lib/python3.10/dist-packages (from requests<3,>=2.27->gTTS) (3.4)\n",
            "Requirement already satisfied: certifi>=2017.4.17 in /usr/local/lib/python3.10/dist-packages (from requests<3,>=2.27->gTTS) (2022.12.7)\n",
            "Installing collected packages: gTTS\n",
            "Successfully installed gTTS-2.3.2\n"
          ]
        }
      ]
    },
    {
      "cell_type": "code",
      "source": [
        "#Text to Speech\n",
        "from gtts import gTTS \n",
        "import os\n",
        "mytext = \"I am learning Language Modeling.It isvery intresting\"\n",
        "language = 'en'\n",
        "myobj = gTTS(text=mytext, lang=language, slow=False) \n",
        "myobj.save(\"LM_ASR.mp3\") "
      ],
      "metadata": {
        "id": "orL0rjDXqLIo"
      },
      "execution_count": 72,
      "outputs": []
    }
  ]
}